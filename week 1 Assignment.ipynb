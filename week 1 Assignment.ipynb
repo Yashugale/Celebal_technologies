{
 "cells": [
  {
   "cell_type": "code",
   "execution_count": 1,
   "id": "157f7019",
   "metadata": {},
   "outputs": [
    {
     "name": "stdout",
     "output_type": "stream",
     "text": [
      "Hello, World!\n"
     ]
    }
   ],
   "source": [
    "if __name__ == '__main__':\n",
    "    print(\"Hello, World!\")\n"
   ]
  },
  {
   "cell_type": "code",
   "execution_count": 20,
   "id": "cc93813d",
   "metadata": {},
   "outputs": [
    {
     "name": "stdout",
     "output_type": "stream",
     "text": [
      "Hello Yash Ugale! You just delved into python.\n"
     ]
    }
   ],
   "source": [
    "\n",
    "def print_full_name(first, last):\n",
    "    # Write your code here\n",
    "    print(f\"Hello {first} {last}! You just delved into python.\")\n",
    "print_full_name(\"Yash\",\"Ugale\")\n"
   ]
  },
  {
   "cell_type": "code",
   "execution_count": 3,
   "id": "d796a221",
   "metadata": {},
   "outputs": [
    {
     "name": "stdout",
     "output_type": "stream",
     "text": [
      "1\n",
      "1\n",
      "1\n",
      "2\n",
      "[[0, 0, 0], [0, 0, 1], [0, 1, 0], [1, 0, 0], [1, 1, 1]]\n"
     ]
    }
   ],
   "source": [
    "if __name__ == '__main__':\n",
    "    x = int(input())\n",
    "    y = int(input())\n",
    "    z = int(input())\n",
    "    n = int(input())\n",
    "    \n",
    "    \n",
    "ans = [[i, j, k] for i in range(x + 1) for j in range(y + 1) for k in range(z + 1) if i + j + k != n]\n",
    "print (ans)\n"
   ]
  },
  {
   "cell_type": "code",
   "execution_count": 4,
   "id": "5ecbdc50",
   "metadata": {},
   "outputs": [
    {
     "name": "stdout",
     "output_type": "stream",
     "text": [
      "5\n",
      "2 3 6 6 5\n",
      "5\n"
     ]
    }
   ],
   "source": [
    "# to print the second highest number in list \n",
    "if __name__ == '__main__':\n",
    "    # n = int(input())\n",
    "    # arr = map(int, input().split())\n",
    "    # arr=sorted(arr,reverse=True)\n",
    "    # for i in range(len(arr)):\n",
    "    #     if arr[i]==arr[0]:\n",
    "    #         continue\n",
    "    #     else:\n",
    "    #         print(arr[i])  \n",
    "    #         break\n",
    "                    \n",
    "    n = int(input())\n",
    "    lis = list(map(int,input().strip().split()))[:n]\n",
    "    z = max(lis)\n",
    "    while max(lis) == z:\n",
    "        lis.remove(max(lis))\n",
    "\n",
    "    print(max(lis))"
   ]
  },
  {
   "cell_type": "code",
   "execution_count": 5,
   "id": "2155e879",
   "metadata": {},
   "outputs": [
    {
     "name": "stdout",
     "output_type": "stream",
     "text": [
      "4\n",
      "Prashant\n",
      "32\n",
      "Pallavi\n",
      "36\n",
      "Dheeraj\n",
      "39\n",
      "Shivam\n",
      "40\n",
      "Pallavi\n"
     ]
    }
   ],
   "source": [
    "#to find second lowest in list \n",
    "lis=[]  \n",
    "if __name__ == '__main__':\n",
    "    for _ in range(int(input())):\n",
    "        name = input()\n",
    "        score = float(input())\n",
    "        \n",
    "        \n",
    "           \n",
    "        lis.append([name,score])\n",
    "    \n",
    "    lis.sort(key=lambda lis:lis[1])\n",
    "    \n",
    "    second_lowest=[]\n",
    "    for i in range(len(lis)):\n",
    "        if lis[i][1]!=lis[0][1]:\n",
    "            second_lowest.append(lis[i][0])\n",
    "            for j in range(i+1,len(lis)):\n",
    "                if lis[j][1]==lis[i][1]:\n",
    "                    second_lowest.append(lis[j][0])\n",
    "                else:\n",
    "                    break\n",
    "            break        \n",
    "           \n",
    "                   \n",
    "            \n",
    "        else:\n",
    "            continue\n",
    "           \n",
    "\n",
    "    second_lowest.sort()\n",
    "    for i in second_lowest:\n",
    "        print(i)\n",
    "                    \n",
    "\n",
    "\n"
   ]
  },
  {
   "cell_type": "code",
   "execution_count": 15,
   "id": "a4452ebf",
   "metadata": {},
   "outputs": [
    {
     "name": "stdout",
     "output_type": "stream",
     "text": [
      "3\n",
      "Krishna 67 68 69\n",
      "Arjun 70 98 63\n",
      "Malika 52 56 60\n",
      "Malika\n",
      "56.00\n"
     ]
    }
   ],
   "source": [
    "if __name__ == '__main__':\n",
    "    n = int(input())\n",
    "    student_marks = {}\n",
    "    for _ in range(n):\n",
    "        name, *line = input().split()\n",
    "        scores = list(map(float, line))\n",
    "        student_marks[name] = scores\n",
    "    query_name = input()\n",
    "    \n",
    "    marks=0\n",
    "    for i in student_marks[query_name]:\n",
    "        marks=marks+i\n",
    "    avg=marks/3\n",
    "    print(\"%.2f\"%avg)\n",
    "                    "
   ]
  },
  {
   "cell_type": "code",
   "execution_count": 17,
   "id": "2a46a76c",
   "metadata": {},
   "outputs": [
    {
     "name": "stdout",
     "output_type": "stream",
     "text": [
      "12\n",
      "insert 0 5\n",
      "insert 1 10\n",
      "insert 0 6\n",
      "print\n",
      "[6, 5, 10]\n",
      "remove 6\n",
      "append 9\n",
      "append 1\n",
      "sort\n",
      "print\n",
      "[1, 5, 9, 10]\n",
      "pop\n",
      "reverse\n",
      "print\n",
      "[9, 5, 1]\n"
     ]
    }
   ],
   "source": [
    "if __name__ == '__main__':\n",
    "    N = int(input())\n",
    "    Output = [];\n",
    "    for i in range(0,N):\n",
    "        ip = input().split();\n",
    "        if ip[0] == \"print\":\n",
    "            print(Output)\n",
    "        elif ip[0] == \"insert\":\n",
    "            Output.insert(int(ip[1]),int(ip[2]))\n",
    "        elif ip[0] == \"remove\":\n",
    "            Output.remove(int(ip[1]))\n",
    "        elif ip[0] == \"pop\":\n",
    "            Output.pop();\n",
    "        elif ip[0] == \"append\":\n",
    "            Output.append(int(ip[1]))\n",
    "        elif ip[0] == \"sort\":\n",
    "            Output.sort();\n",
    "        else:\n",
    "            Output.reverse();\n",
    " \n",
    "     \n"
   ]
  },
  {
   "cell_type": "code",
   "execution_count": 22,
   "id": "fb28816f",
   "metadata": {},
   "outputs": [
    {
     "data": {
      "text/plain": [
       "[0, 1, 1, 2, 3]"
      ]
     },
     "execution_count": 22,
     "metadata": {},
     "output_type": "execute_result"
    }
   ],
   "source": [
    "cube = lambda x: x**3 # complete the lambda function \n",
    "\n",
    "def fibonacci(n):\n",
    "    # return a list of fibonacci numbers\n",
    "    result = [0,1]\n",
    "    for i in range(2,n):\n",
    "        result.append(result[i-1]+result[i-2])\n",
    "    return result[:n]\n",
    "fibonacci(5)"
   ]
  },
  {
   "cell_type": "code",
   "execution_count": 25,
   "id": "ff29c735",
   "metadata": {},
   "outputs": [
    {
     "data": {
      "text/plain": [
       "'hACKERrANK.COM PRESENTS pYTHONIST 2'"
      ]
     },
     "execution_count": 25,
     "metadata": {},
     "output_type": "execute_result"
    }
   ],
   "source": [
    "def swap_case(s):\n",
    "    case_change=[]\n",
    "    for i in range(len(s)):\n",
    "        if (s[i].isupper())==True:\n",
    "            case_change.append(s[i].lower())\n",
    "        elif (s[i].islower()==True):\n",
    "            case_change.append(s[i].upper())\n",
    "        else:\n",
    "            case_change.append(s[i])    \n",
    "        stri=''\n",
    "    return stri.join(case_change)\n",
    "swap_case(\"HackerRank.com presents Pythonist 2\")\n"
   ]
  },
  {
   "cell_type": "code",
   "execution_count": 26,
   "id": "ebca1c10",
   "metadata": {},
   "outputs": [
    {
     "name": "stdout",
     "output_type": "stream",
     "text": [
      "3\n",
      "123"
     ]
    }
   ],
   "source": [
    "if __name__ == '__main__':\n",
    "    n = int(input())\n",
    "    \n",
    "\n",
    "    for i in range(n):\n",
    "        print(i+1,end=\"\")"
   ]
  },
  {
   "cell_type": "code",
   "execution_count": 27,
   "id": "002e2877",
   "metadata": {},
   "outputs": [
    {
     "name": "stdout",
     "output_type": "stream",
     "text": [
      "5\n",
      "0\n",
      "1\n",
      "4\n",
      "9\n",
      "16\n"
     ]
    }
   ],
   "source": [
    "if __name__ == '__main__':\n",
    "    n = int(input())\n",
    "    \n",
    "    for i in range(n):\n",
    "        print(i * i)\n"
   ]
  },
  {
   "cell_type": "code",
   "execution_count": 28,
   "id": "8e5d0931",
   "metadata": {},
   "outputs": [
    {
     "name": "stdout",
     "output_type": "stream",
     "text": [
      "4\n",
      "3\n",
      "1\n",
      "1.3333333333333333\n"
     ]
    }
   ],
   "source": [
    "if __name__ == '__main__':\n",
    "    a = int(input())\n",
    "    b = int(input())\n",
    "    \n",
    "i=a//b\n",
    "print(i)\n",
    "f=a/b\n",
    "print(f)\n"
   ]
  },
  {
   "cell_type": "code",
   "execution_count": 29,
   "id": "93c0ebd8",
   "metadata": {},
   "outputs": [
    {
     "name": "stdout",
     "output_type": "stream",
     "text": [
      "2\n",
      "3\n",
      "5\n"
     ]
    }
   ],
   "source": [
    "def solveMeFirst(a,b):\n",
    "    return a+b\n",
    "\t# Hint: Type return a+b below\n",
    "\n",
    "\n",
    "num1 = int(input())\n",
    "num2 = int(input())\n",
    "res = solveMeFirst(num1,num2)\n",
    "print(res)\n"
   ]
  },
  {
   "cell_type": "code",
   "execution_count": 30,
   "id": "d4badbae",
   "metadata": {},
   "outputs": [
    {
     "name": "stdout",
     "output_type": "stream",
     "text": [
      "2\n",
      "3\n",
      "5\n",
      "-1\n",
      "6\n"
     ]
    }
   ],
   "source": [
    "if __name__ == '__main__':\n",
    "    a = int(input())\n",
    "    b = int(input())\n",
    "    \n",
    "    s=a+b\n",
    "    print(s)\n",
    "    d=a-b\n",
    "    print(d)\n",
    "    p=a*b\n",
    "    print(p)\n"
   ]
  },
  {
   "cell_type": "code",
   "execution_count": 31,
   "id": "01a9b5ad",
   "metadata": {},
   "outputs": [
    {
     "name": "stdout",
     "output_type": "stream",
     "text": [
      "3\n",
      "Weird\n"
     ]
    }
   ],
   "source": [
    "#!/bin/python3\n",
    "\n",
    "import math\n",
    "import os\n",
    "import random\n",
    "import re\n",
    "import sys\n",
    "\n",
    "\n",
    "\n",
    "if __name__ == '__main__':\n",
    "    n = int(input().strip())\n",
    "\n",
    "if n % 2 != 0:\n",
    "    print(\"Weird\")\n",
    "else:\n",
    "    if n >= 2 and n <= 5:\n",
    "        print(\"Not Weird\")\n",
    "    elif n >= 6 and n <= 20:\n",
    "        print(\"Weird\")\n",
    "    elif n > 20:\n",
    "        print(\"Not Weird\")"
   ]
  },
  {
   "cell_type": "code",
   "execution_count": 36,
   "id": "ccf4ac5d",
   "metadata": {},
   "outputs": [
    {
     "data": {
      "text/plain": [
       "'This-is-a-string'"
      ]
     },
     "execution_count": 36,
     "metadata": {},
     "output_type": "execute_result"
    }
   ],
   "source": [
    "def split_and_join(line):\n",
    "    # write your code here\n",
    "    a=line.split(\" \")\n",
    "    a=\"-\".join(a)\n",
    "    return a\n",
    "split_and_join(\"This is a string\")\n",
    "   "
   ]
  },
  {
   "cell_type": "code",
   "execution_count": 37,
   "id": "6e93b1ce",
   "metadata": {},
   "outputs": [
    {
     "name": "stdout",
     "output_type": "stream",
     "text": [
      "ABCDCDC\n",
      "CDC\n",
      "2\n"
     ]
    }
   ],
   "source": [
    "def count_substring(string, sub_string):\n",
    "    count=0\n",
    "    for i in range(len(string)-len(sub_string)+1):\n",
    "        if (string[i:i+len(sub_string)] == sub_string):\n",
    "            count += 1\n",
    "    return count\n",
    "\n",
    "if __name__ == '__main__':\n",
    "    string = input().strip()\n",
    "    sub_string = input().strip()\n",
    "    \n",
    "    count = count_substring(string, sub_string)\n",
    "    print(count)"
   ]
  },
  {
   "cell_type": "code",
   "execution_count": 38,
   "id": "03fef6bf",
   "metadata": {},
   "outputs": [
    {
     "name": "stdout",
     "output_type": "stream",
     "text": [
      "q5A\n",
      "True\n",
      "True\n",
      "True\n",
      "True\n",
      "True\n"
     ]
    }
   ],
   "source": [
    "if __name__ == '__main__':\n",
    "    s = input()\n",
    "    list_method=['isalnum()','isalpha()','isdigit()','islower()','isupper()']\n",
    "    for i in list_method:\n",
    "        for j in s:\n",
    "            if eval(f\"'{j}'.{i}\"):\n",
    "                print(True)\n",
    "                break   "
   ]
  },
  {
   "cell_type": "code",
   "execution_count": null,
   "id": "f3cbc115",
   "metadata": {},
   "outputs": [],
   "source": []
  }
 ],
 "metadata": {
  "kernelspec": {
   "display_name": "Python 3",
   "language": "python",
   "name": "python3"
  },
  "language_info": {
   "codemirror_mode": {
    "name": "ipython",
    "version": 3
   },
   "file_extension": ".py",
   "mimetype": "text/x-python",
   "name": "python",
   "nbconvert_exporter": "python",
   "pygments_lexer": "ipython3",
   "version": "3.8.8"
  }
 },
 "nbformat": 4,
 "nbformat_minor": 5
}
