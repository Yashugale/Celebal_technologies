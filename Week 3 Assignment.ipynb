{
 "cells": [
  {
   "cell_type": "markdown",
   "id": "ab84254f",
   "metadata": {},
   "source": [
    "**Indexing in List**"
   ]
  },
  {
   "cell_type": "code",
   "execution_count": 27,
   "id": "8eb9390a",
   "metadata": {},
   "outputs": [
    {
     "name": "stdout",
     "output_type": "stream",
     "text": [
      "Riya\n",
      "viraj\n",
      "athrv\n"
     ]
    }
   ],
   "source": [
    "list1=[\"Riya\",\"viraj\",\"athrv\"]\n",
    "for i in range(0,3):\n",
    "  print(list1[i])\n"
   ]
  },
  {
   "cell_type": "markdown",
   "id": "17126fd6",
   "metadata": {},
   "source": [
    "**Negative Indexing in Tuple**"
   ]
  },
  {
   "cell_type": "code",
   "execution_count": 5,
   "id": "e01ada3e",
   "metadata": {},
   "outputs": [
    {
     "name": "stdout",
     "output_type": "stream",
     "text": [
      "hritika\n"
     ]
    }
   ],
   "source": [
    "names=(\"anushka\",\"yashika\",\"dipti\",\"hritika\")\n",
    "print(names[-1])"
   ]
  },
  {
   "cell_type": "code",
   "execution_count": 6,
   "id": "4d0d8d1f",
   "metadata": {},
   "outputs": [
    {
     "name": "stdout",
     "output_type": "stream",
     "text": [
      "('hritika', 'dipti', 'yashika', 'anushka')\n"
     ]
    }
   ],
   "source": [
    "names=(\"anushka\",\"yashika\",\"dipti\",\"hritika\")\n",
    "print(names[::-1])"
   ]
  },
  {
   "cell_type": "markdown",
   "id": "d28fb172",
   "metadata": {},
   "source": [
    "**Membership test in list**"
   ]
  },
  {
   "cell_type": "code",
   "execution_count": 7,
   "id": "ce908f48",
   "metadata": {},
   "outputs": [
    {
     "name": "stdout",
     "output_type": "stream",
     "text": [
      "True\n",
      "False\n",
      "False\n"
     ]
    }
   ],
   "source": [
    "var=\"Anushka\"\n",
    "list=[\"Hritika\",\"Dipti\",\"Anushka\",\"Yashika\",\"Sakshi\",\"Prajakta\"]\n",
    "print(var in list)             #in\n",
    "print(\"Yashika\" not in list)   #not in\n",
    "print(var not in list)         #not in"
   ]
  },
  {
   "cell_type": "markdown",
   "id": "201e9543",
   "metadata": {},
   "source": [
    "**Membership test in tuple**"
   ]
  },
  {
   "cell_type": "code",
   "execution_count": 8,
   "id": "a787ee29",
   "metadata": {},
   "outputs": [
    {
     "name": "stdout",
     "output_type": "stream",
     "text": [
      "True\n",
      "False\n",
      "False\n"
     ]
    }
   ],
   "source": [
    "var=\"Anushka\"\n",
    "tuple=(\"Hritika\",\"Dipti\",\"Anushka\",\"Yashika\",\"Sakshi\",\"Prajakta\")\n",
    "print(var in tuple)                #in\n",
    "print(\"Yashika\" not in tuple)      #not in\n",
    "print(var not in tuple)            #not in"
   ]
  },
  {
   "cell_type": "markdown",
   "id": "ab4434b9",
   "metadata": {},
   "source": [
    "**Membership test in sets**"
   ]
  },
  {
   "cell_type": "code",
   "execution_count": 9,
   "id": "2664f11b",
   "metadata": {},
   "outputs": [
    {
     "name": "stdout",
     "output_type": "stream",
     "text": [
      "True\n",
      "False\n",
      "False\n"
     ]
    }
   ],
   "source": [
    "set=\"Anushka\"\n",
    "set={\"Hritika\",\"Dipti\",\"Anushka\",\"Yashika\",\"Sakshi\",\"Prajakta\"}\n",
    "print(var in set)        #in\n",
    "print(\"Yashika\" not in set)      #not in\n",
    "print(var not in set)    #not in"
   ]
  },
  {
   "cell_type": "markdown",
   "id": "5a070192",
   "metadata": {},
   "source": [
    "**Membership test in dictionary**\n"
   ]
  },
  {
   "cell_type": "code",
   "execution_count": 30,
   "id": "29b7f9fb",
   "metadata": {},
   "outputs": [
    {
     "name": "stdout",
     "output_type": "stream",
     "text": [
      "False\n",
      "False\n",
      "True\n"
     ]
    }
   ],
   "source": [
    "var=\"Anushka\"\n",
    "dict1={\"sahil\",\"krishna\",\"Anushka\",\"Yashika\",\"Sakshi\",\"Prajakta\"}\n",
    "dict2={\"these\",\"are\",\"some\",\"friends\",\"of\",\"school\",\"time\"}\n",
    "dict3={\"sahil\",\"was\",\"my\",\"best\",\"friend\"}\n",
    "print(var in dict3)               #in\n",
    "print(\"Sakshi\" not in dict1)      #not in\n",
    "print(var not in dict2)           #not in"
   ]
  },
  {
   "cell_type": "markdown",
   "id": "4a957501",
   "metadata": {},
   "source": [
    "**Looping through Tuple**"
   ]
  },
  {
   "cell_type": "code",
   "execution_count": 31,
   "id": "816f9cdf",
   "metadata": {},
   "outputs": [
    {
     "name": "stdout",
     "output_type": "stream",
     "text": [
      "My friends:\n",
      "sahil\n",
      "Aniket\n",
      "Anushka\n",
      "Prachi\n",
      "Senhal\n",
      "Bhakti\n"
     ]
    }
   ],
   "source": [
    "tuple=(\"sahil\",\"Aniket\",\"Anushka\",\"Prachi\",\"Senhal\",\"Bhakti\")\n",
    "print(\"My friends:\")\n",
    "for ele in tuple:\n",
    "  print(ele)"
   ]
  },
  {
   "cell_type": "markdown",
   "id": "42c635ac",
   "metadata": {},
   "source": [
    "**Looping through List**"
   ]
  },
  {
   "cell_type": "code",
   "execution_count": 2,
   "id": "4e3da696",
   "metadata": {},
   "outputs": [
    {
     "name": "stdout",
     "output_type": "stream",
     "text": [
      "How many elements you want in your list:5\n",
      "1\n",
      "[1]\n",
      "2\n",
      "[1, 2]\n",
      "3\n",
      "[1, 2, 3]\n",
      "4\n",
      "[1, 2, 3, 4]\n",
      "5\n",
      "[1, 2, 3, 4, 5]\n"
     ]
    }
   ],
   "source": [
    "list=[]\n",
    "a=int(input(\"How many elements you want in your list:\"))\n",
    "c=0\n",
    "for ele in range(a):\n",
    "  temp=int(input())\n",
    "  list.append(temp)\n",
    "  print(list)"
   ]
  },
  {
   "cell_type": "markdown",
   "id": "e3ef78b3",
   "metadata": {},
   "source": [
    "**Looping in sets**"
   ]
  },
  {
   "cell_type": "code",
   "execution_count": 32,
   "id": "eba23208",
   "metadata": {},
   "outputs": [
    {
     "name": "stdout",
     "output_type": "stream",
     "text": [
      "Prajakta\n",
      "sahil\n",
      "Snehal\n",
      "Anushka\n",
      "Prachi\n",
      "Yogi\n"
     ]
    }
   ],
   "source": [
    "set={\"Yogi\",\"sahil\",\"Anushka\",\"Prachi\",\"Snehal\",\"Prajakta\"}\n",
    "for x in set:\n",
    "  print(x)"
   ]
  },
  {
   "cell_type": "markdown",
   "id": "b5eb0955",
   "metadata": {},
   "source": [
    "**looping in Dictionary**"
   ]
  },
  {
   "cell_type": "code",
   "execution_count": 33,
   "id": "5d586cda",
   "metadata": {},
   "outputs": [
    {
     "name": "stdout",
     "output_type": "stream",
     "text": [
      "Yogi\n",
      "yash\n",
      "Anushka\n",
      "riya\n",
      "Snehal\n",
      "Prajakta\n"
     ]
    }
   ],
   "source": [
    "set={\"Yogi\":\"1\",\"yash\":\"2\",\"Anushka\":\"3\",\"riya\":\"4\",\"Snehal\":\"5\",\"Prajakta\":\"6\"}\n",
    "for x in set:\n",
    "  print(x)"
   ]
  },
  {
   "cell_type": "markdown",
   "id": "a1ca1d67",
   "metadata": {},
   "source": [
    "**Nested list**"
   ]
  },
  {
   "cell_type": "code",
   "execution_count": 18,
   "id": "55ad70e1",
   "metadata": {},
   "outputs": [
    {
     "name": "stdout",
     "output_type": "stream",
     "text": [
      "a\n",
      "['bb', 'cc']\n",
      "d\n"
     ]
    }
   ],
   "source": [
    "L = ['a', ['bb', 'cc'], 'd']\n",
    "print(L[0])\n",
    "print(L[1])\n",
    "print(L[2])"
   ]
  },
  {
   "cell_type": "code",
   "execution_count": 21,
   "id": "e1cb6d08",
   "metadata": {},
   "outputs": [
    {
     "name": "stdout",
     "output_type": "stream",
     "text": [
      "['a', ['bb', 'cc', 'yash'], 'd']\n"
     ]
    }
   ],
   "source": [
    "L = ['a', ['bb', 'cc'], 'd']\n",
    "L[1].append('yash')\n",
    "print(L)"
   ]
  },
  {
   "cell_type": "code",
   "execution_count": 26,
   "id": "f3d28d42",
   "metadata": {},
   "outputs": [
    {
     "name": "stdout",
     "output_type": "stream",
     "text": [
      "['a', ['bb', 'cc'], 'd', 'sahil']\n"
     ]
    }
   ],
   "source": [
    "L = ['a', ['bb', 'cc'], 'd']\n",
    "L.append('sahil')\n",
    "print(L)"
   ]
  },
  {
   "cell_type": "code",
   "execution_count": null,
   "id": "e49b9318",
   "metadata": {},
   "outputs": [],
   "source": []
  }
 ],
 "metadata": {
  "kernelspec": {
   "display_name": "Python 3",
   "language": "python",
   "name": "python3"
  },
  "language_info": {
   "codemirror_mode": {
    "name": "ipython",
    "version": 3
   },
   "file_extension": ".py",
   "mimetype": "text/x-python",
   "name": "python",
   "nbconvert_exporter": "python",
   "pygments_lexer": "ipython3",
   "version": "3.8.8"
  }
 },
 "nbformat": 4,
 "nbformat_minor": 5
}
